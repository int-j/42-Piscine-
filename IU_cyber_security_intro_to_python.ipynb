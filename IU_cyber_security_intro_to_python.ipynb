{
  "nbformat": 4,
  "nbformat_minor": 0,
  "metadata": {
    "colab": {
      "name": "IU- cyber security intro to python.ipynb",
      "provenance": [],
      "authorship_tag": "ABX9TyNTIYhSG/426D8BNNnu9I34",
      "include_colab_link": true
    },
    "kernelspec": {
      "name": "python3",
      "display_name": "Python 3"
    },
    "language_info": {
      "name": "python"
    }
  },
  "cells": [
    {
      "cell_type": "markdown",
      "metadata": {
        "id": "view-in-github",
        "colab_type": "text"
      },
      "source": [
        "<a href=\"https://colab.research.google.com/github/int-j/42-Piscine-/blob/main/IU_cyber_security_intro_to_python.ipynb\" target=\"_parent\"><img src=\"https://colab.research.google.com/assets/colab-badge.svg\" alt=\"Open In Colab\"/></a>"
      ]
    },
    {
      "cell_type": "code",
      "execution_count": null,
      "metadata": {
        "colab": {
          "base_uri": "https://localhost:8080/"
        },
        "id": "jMor_x08USrn",
        "outputId": "e9c9b6a5-814e-4cbf-e89d-7c307de69601"
      },
      "outputs": [
        {
          "output_type": "stream",
          "name": "stdout",
          "text": [
            "T-E-S-T\n",
            "['This', 'is', 'a', 'string']\n",
            "I LOVE PYTHON\n",
            "i love python\n",
            "Python  ==  amazing\n",
            "mre ao\n",
            "my m\n"
          ]
        }
      ],
      "source": [
        "print((\"-\").join(\"TEST\"))\n",
        "#T-E-S-T\n",
        "print(\"This is a string\".split(\" \"))\n",
        "#['This', 'is', 'a', 'string']\n",
        "print (\"I love Python\".upper ())\n",
        "# I LOVE PYTHON\n",
        "print(\"I love Python\".lower ())\n",
        "# i love python\n",
        "print(\"Python is amazing\".replace(\"is\", \" == \"))\n",
        "#Python == amazing\n",
        "my_string = \"my name\"\n",
        "print(my_string[0::2])\n",
        "\n",
        "print(my_string[1::3])"
      ]
    },
    {
      "cell_type": "markdown",
      "source": [
        "**Sets Methods**"
      ],
      "metadata": {
        "id": "IKnOqughYx0g"
      }
    },
    {
      "cell_type": "code",
      "source": [
        "player_names = {\"Franz Beckenbauer\", \"Gerd Muller\", \"LotharMatthaus\"}\n",
        "print(player_names)\n",
        "#{'Lothar Matthaus', 'Franz Beckenbauer', 'Gerd Muller'}\n",
        "player_names.add(\"Manuel Neuer\")\n",
        "player_names.remove(\"LotharMatthaus\")\n",
        "print(player_names)\n",
        "#{\"Manuel Neuer', 'Franz Beckenbauer', 'Gerd Muller'}\n",
        "player_names.clear()\n",
        "print(player_names)\n",
        "#set()"
      ],
      "metadata": {
        "colab": {
          "base_uri": "https://localhost:8080/"
        },
        "id": "8JUuQWnzYvsb",
        "outputId": "af90a8da-bb24-44b4-aaa5-5996a36bfd71"
      },
      "execution_count": null,
      "outputs": [
        {
          "output_type": "stream",
          "name": "stdout",
          "text": [
            "{'LotharMatthaus', 'Franz Beckenbauer', 'Gerd Muller'}\n",
            "{'Franz Beckenbauer', 'Manuel Neuer', 'Gerd Muller'}\n",
            "set()\n"
          ]
        }
      ]
    },
    {
      "cell_type": "code",
      "source": [
        "my_frozen_set = frozenset((1, 92.5, \"Frozen!!!\"))\n",
        "print(my_frozen_set)\n",
        "#frozenset({1, 'Frozen!!!', 92.5})\n",
        "my_frozen_set.add(\"Let me in!\")"
      ],
      "metadata": {
        "colab": {
          "base_uri": "https://localhost:8080/",
          "height": 217
        },
        "id": "F05o-sHdesZJ",
        "outputId": "35c0a271-3163-41b5-95aa-b21fd03ca96f"
      },
      "execution_count": null,
      "outputs": [
        {
          "output_type": "stream",
          "name": "stdout",
          "text": [
            "frozenset({1, 92.5, 'Frozen!!!'})\n"
          ]
        },
        {
          "output_type": "error",
          "ename": "AttributeError",
          "evalue": "ignored",
          "traceback": [
            "\u001b[0;31m---------------------------------------------------------------------------\u001b[0m",
            "\u001b[0;31mAttributeError\u001b[0m                            Traceback (most recent call last)",
            "\u001b[0;32m<ipython-input-9-e55bcdca6e4f>\u001b[0m in \u001b[0;36m<module>\u001b[0;34m()\u001b[0m\n\u001b[1;32m      2\u001b[0m \u001b[0mprint\u001b[0m\u001b[0;34m(\u001b[0m\u001b[0mmy_frozen_set\u001b[0m\u001b[0;34m)\u001b[0m\u001b[0;34m\u001b[0m\u001b[0;34m\u001b[0m\u001b[0m\n\u001b[1;32m      3\u001b[0m \u001b[0;31m#frozenset({1, 'Frozen!!!', 92.5})\u001b[0m\u001b[0;34m\u001b[0m\u001b[0;34m\u001b[0m\u001b[0;34m\u001b[0m\u001b[0m\n\u001b[0;32m----> 4\u001b[0;31m \u001b[0mmy_frozen_set\u001b[0m\u001b[0;34m.\u001b[0m\u001b[0madd\u001b[0m\u001b[0;34m(\u001b[0m\u001b[0;34m\"Let me in!\"\u001b[0m\u001b[0;34m)\u001b[0m\u001b[0;34m\u001b[0m\u001b[0;34m\u001b[0m\u001b[0m\n\u001b[0m",
            "\u001b[0;31mAttributeError\u001b[0m: 'frozenset' object has no attribute 'add'"
          ]
        }
      ]
    },
    {
      "cell_type": "code",
      "source": [
        "my_list = [1, 2.6, \"Bob\", 5+7.23]\n",
        "print(my_list)\n",
        "#[1, 2.6, 'Bob', (5+7.2j)]\n",
        "my_list.append(\"Janet\")\n",
        "print(my_list)\n",
        "#[1, 2.6, 'Bob', (5+7.2j), 'Janet']\n",
        "my_list.insert(2, 99)\n",
        "print(my_list)\n",
        "#[1, 2.6, 99, 'Bob', (5+7.2j), 'Janet']\n",
        "my_list.remove(2.6)\n",
        "print(my_list)\n",
        "#[1, 99, 'Bob', (5+7.2j), 'Janet']\n",
        "my_list.clear()"
      ],
      "metadata": {
        "colab": {
          "base_uri": "https://localhost:8080/"
        },
        "id": "dQ68dfC1fjop",
        "outputId": "f58367b8-3b87-48fd-d5e1-1a0ba7ca7375"
      },
      "execution_count": null,
      "outputs": [
        {
          "output_type": "stream",
          "name": "stdout",
          "text": [
            "[1, 2.6, 'Bob', 12.23]\n",
            "[1, 2.6, 'Bob', 12.23, 'Janet']\n",
            "[1, 2.6, 99, 'Bob', 12.23, 'Janet']\n",
            "[1, 99, 'Bob', 12.23, 'Janet']\n"
          ]
        }
      ]
    },
    {
      "cell_type": "code",
      "source": [
        "my_tuple = (7, 4.5+2.13, -991.71, \"What a great tuple!\")\n",
        "print(my_tuple)\n",
        "#(7, (4.5+2.1j), -991.71, 'What a great tuple!') tuple are immutable like frozwen sets"
      ],
      "metadata": {
        "colab": {
          "base_uri": "https://localhost:8080/"
        },
        "id": "0bysTWJpgsI2",
        "outputId": "48fbcc4e-7adf-41f3-9cde-9d1aa05c9c81"
      },
      "execution_count": null,
      "outputs": [
        {
          "output_type": "stream",
          "name": "stdout",
          "text": [
            "(7, 6.63, -991.71, 'What a great tuple!')\n"
          ]
        }
      ]
    },
    {
      "cell_type": "code",
      "source": [
        "my_dictionary = {\"Hair color\" : \"Brown\", \"Eye color\" : \"Hazel\", \"Age\" : 31}\n",
        "print(my_dictionary)\n",
        "#{'Hair color': 'Brown', 'Eye color': 'Hazel', 'Age': 31}\n",
        "\n",
        "print(my_dictionary[\"Eye color\"])\n",
        "#'Hazel'\n",
        "print(my_dictionary.get(\"Age\"))\n",
        "#31\n"
      ],
      "metadata": {
        "colab": {
          "base_uri": "https://localhost:8080/"
        },
        "id": "XVuiPwtFhPqp",
        "outputId": "62ce8ff1-14ad-4cc7-bc16-5db7cb21b493"
      },
      "execution_count": null,
      "outputs": [
        {
          "output_type": "stream",
          "name": "stdout",
          "text": [
            "{'Hair color': 'Brown', 'Eye color': 'Hazel', 'Age': 31}\n",
            "Hazel\n",
            "31\n"
          ]
        }
      ]
    },
    {
      "cell_type": "code",
      "source": [
        "my_file = open(\"myfile.txt\", \"w\")\n",
        "my_file.write(\"i am writing a file in python\")\n",
        "my_file = open(\"myfile.txt\", \"r\")\n",
        "print(my_file.read())\n",
        "my_file.close()\n"
      ],
      "metadata": {
        "colab": {
          "base_uri": "https://localhost:8080/"
        },
        "id": "7zFWXQ0Ati9_",
        "outputId": "a7a1706c-cd61-45a5-e7d3-66c5aade72ea"
      },
      "execution_count": null,
      "outputs": [
        {
          "output_type": "stream",
          "name": "stdout",
          "text": [
            "i am writing a file in python\n"
          ]
        }
      ]
    },
    {
      "cell_type": "code",
      "source": [
        "print(2 ** 2 * 3 / 4 + 6 - 7)\n",
        "#2.0\n",
        "print(2 ** 2 * 3 / (4 + 6 - 7))\n",
        "#4.0\n",
        "print(2 ** (2* 3) / 4 + 6- 7)\n",
        "#15.0"
      ],
      "metadata": {
        "colab": {
          "base_uri": "https://localhost:8080/"
        },
        "id": "WL0bKpyGwWso",
        "outputId": "62f0c17c-3dce-428b-ae3b-b17093c09f94"
      },
      "execution_count": null,
      "outputs": [
        {
          "output_type": "stream",
          "name": "stdout",
          "text": [
            "2.0\n",
            "4.0\n",
            "15.0\n"
          ]
        }
      ]
    },
    {
      "cell_type": "code",
      "source": [
        "print(\"Type a value:\")\n",
        "\n",
        "my_variable = input()\n",
        "print(\"you entered:\" , my_variable)\n",
        "\n",
        "print(\"Try it again:\")\n",
        "\n",
        "my_variable = input()\n",
        "print(\"You entered:\" , my_variable)\n",
        "type(my_variable)"
      ],
      "metadata": {
        "colab": {
          "base_uri": "https://localhost:8080/"
        },
        "id": "fqQ6sUQJy0Zk",
        "outputId": "9965ad08-5357-4fb6-a53b-18f1a594d6da"
      },
      "execution_count": null,
      "outputs": [
        {
          "output_type": "stream",
          "name": "stdout",
          "text": [
            "Type a value:\n",
            "5\n",
            "5\n"
          ]
        },
        {
          "output_type": "execute_result",
          "data": {
            "text/plain": [
              "str"
            ]
          },
          "metadata": {},
          "execution_count": 37
        }
      ]
    },
    {
      "cell_type": "code",
      "source": [
        "print(2 * (3 ** 2) / 4 + (9 - 3))"
      ],
      "metadata": {
        "colab": {
          "base_uri": "https://localhost:8080/"
        },
        "id": "09GJ01gQ1tH1",
        "outputId": "3c081f78-7219-429e-e8cc-2fc48c70c84b"
      },
      "execution_count": null,
      "outputs": [
        {
          "output_type": "stream",
          "name": "stdout",
          "text": [
            "10.5\n"
          ]
        }
      ]
    },
    {
      "cell_type": "code",
      "source": [
        "print(\"Enter a number\")\n",
        "my_number = input()\n",
        "if int(my_number) < 10:\n",
        "   print(\"Your number is less than 10!\")\n",
        "   print(my_number)\n",
        "print(\"We're done!\")"
      ],
      "metadata": {
        "colab": {
          "base_uri": "https://localhost:8080/"
        },
        "id": "sGexTqi44OOB",
        "outputId": "31412fa5-46b8-4629-c79c-59d05c3a7e1d"
      },
      "execution_count": null,
      "outputs": [
        {
          "output_type": "stream",
          "name": "stdout",
          "text": [
            "Enter a number\n",
            "5\n",
            "Your number is less than 10!\n",
            "5\n",
            "We're done!\n"
          ]
        }
      ]
    },
    {
      "cell_type": "code",
      "source": [
        "print(\"Enter a number\")\n",
        "my_number = int(input())\n",
        "if my_number < 0:\n",
        "   print(\"Your number is negative.\")\n",
        "elif my_number == 0:\n",
        "   print(\"Your number is zero.\")\n",
        "else:\n",
        "   print(\"Your number is positive.\")\n",
        "print(\"Thanks for playing!\")"
      ],
      "metadata": {
        "colab": {
          "base_uri": "https://localhost:8080/"
        },
        "id": "PoCS1_0l5CSB",
        "outputId": "562181e3-162d-4a8d-8af9-402a8f3b75c1"
      },
      "execution_count": null,
      "outputs": [
        {
          "output_type": "stream",
          "name": "stdout",
          "text": [
            "Enter a number\n",
            "-5\n",
            "Your number is negative.\n",
            "Thanks for playing!\n"
          ]
        }
      ]
    },
    {
      "cell_type": "code",
      "source": [
        "print(\"Enter a string: \")\n",
        "my_str = input()\n",
        "if len(my_str) < 1:\n",
        "  print(\"That's a very short string!\")\n",
        "elif len(my_str) < 5:\n",
        "   print(\"That's a fairly short string.\")\n",
        "elif len(my_str) < 25:\n",
        "  print(\"That's a good sized string.\")\n",
        "elif len(my_str) < 50:\n",
        "   print(\"That's a fairly long string.\")\n",
        "elif len(my_str) < 100:\n",
        "   print(\"That's a long string.\")\n",
        "else:\n",
        "   print(\"That's a very long string!\")"
      ],
      "metadata": {
        "colab": {
          "base_uri": "https://localhost:8080/"
        },
        "id": "dp0MWibu5Qno",
        "outputId": "3e3677ca-aa9d-4c5f-a533-94287b473018"
      },
      "execution_count": null,
      "outputs": [
        {
          "output_type": "stream",
          "name": "stdout",
          "text": [
            "Enter a string: \n",
            "hello zorld sup you doing there\n",
            "That's a fairly long string.\n"
          ]
        }
      ]
    },
    {
      "cell_type": "code",
      "source": [
        "my_players = [\"Franz Beckenbauer\", \"Gerd Muller\",\n",
        "              \"Lothar Matthaus\", \"Manuel Neuer\"]\n",
        "for x in range(4):\n",
        "   print(\"Player \" + str(x+1) + \": \" +  my_players[x])"
      ],
      "metadata": {
        "colab": {
          "base_uri": "https://localhost:8080/"
        },
        "id": "3asSQPct79CK",
        "outputId": "5eacf58e-c947-42ba-e98f-b06418155964"
      },
      "execution_count": null,
      "outputs": [
        {
          "output_type": "stream",
          "name": "stdout",
          "text": [
            "Player 1: Franz Beckenbauer\n",
            "Player 2: Gerd Muller\n",
            "Player 3: Lothar Matthaus\n",
            "Player 4: Manuel Neuer\n"
          ]
        }
      ]
    },
    {
      "cell_type": "code",
      "source": [
        "my_players = [\"Franz Beckenbauer\", \"Gerd Muller\",\n",
        "              \"Lothar Matthaus\", \"Manuel Neuer\"]\n",
        "x = 0\n",
        "while x < 4:\n",
        "    print(\"Player \" + str(x+1) + \": \" +  my_players[x])\n",
        "    x += 1\n",
        "print(\"End of roster\")"
      ],
      "metadata": {
        "colab": {
          "base_uri": "https://localhost:8080/"
        },
        "id": "uFNUgc7W8ksG",
        "outputId": "a581cf7e-f1e8-4323-e9cc-abc5da95d087"
      },
      "execution_count": null,
      "outputs": [
        {
          "output_type": "stream",
          "name": "stdout",
          "text": [
            "Player 1: Franz Beckenbauer\n",
            "Player 2: Gerd Muller\n",
            "Player 3: Lothar Matthaus\n",
            "Player 4: Manuel Neuer\n",
            "End of roster\n"
          ]
        }
      ]
    },
    {
      "cell_type": "code",
      "source": [
        "my_players = [\"Franz Beckenbauer\", \"Gerd Muller\",\n",
        "              \"Lothar Matthaus\", \"Manuel Neuer\"]\n",
        "for x in range(4):\n",
        "   if x > 2:\n",
        "      break\n",
        "      #BREAK\n",
        "   print(\"Player\" + str(x+1) + \": \" + my_players[x])\n",
        "print(\"End of roster\")\n",
        "                                      "
      ],
      "metadata": {
        "colab": {
          "base_uri": "https://localhost:8080/"
        },
        "id": "bde2V9qQ-QPw",
        "outputId": "c190efdb-77ea-4047-fd07-29127b00fc17"
      },
      "execution_count": null,
      "outputs": [
        {
          "output_type": "stream",
          "name": "stdout",
          "text": [
            "Player1: Franz Beckenbauer\n",
            "Player2: Gerd Muller\n",
            "Player3: Lothar Matthaus\n",
            "End of roster\n"
          ]
        }
      ]
    },
    {
      "cell_type": "markdown",
      "source": [
        "**continue**\n",
        "\n",
        " what if we just want to skip execution of the loop once? We can do that with the “continue” keyword. Like break, continue can be used in for loops and while loops. The continue keyword will interrupt a loop, but instead of exiting the loop, the interpreter just skips the current execution of the loop and returns to the top of the loop."
      ],
      "metadata": {
        "id": "TniHoJMm_US9"
      }
    },
    {
      "cell_type": "code",
      "source": [
        "my_players = [\"Franz Beckenbauer\", \"Gerd Muller\",\n",
        "              \"Lothar Matthaus\", \"Manuel Neuer\"]\n",
        "for x in range(4):\n",
        "   if x == 2:\n",
        "      continue\n",
        "      #CONTINUE\n",
        "   print(\"Player \"  + str(x+1) + \": \" + my_players[x])\n",
        "print(\"End of roster\")\n",
        "                   "
      ],
      "metadata": {
        "colab": {
          "base_uri": "https://localhost:8080/"
        },
        "id": "_Rnr2fg2-6XI",
        "outputId": "0e1a63d4-15eb-4704-ab43-54c4306108a9"
      },
      "execution_count": null,
      "outputs": [
        {
          "output_type": "stream",
          "name": "stdout",
          "text": [
            "Player 1: Franz Beckenbauer\n",
            "Player 2: Gerd Muller\n",
            "Player 4: Manuel Neuer\n",
            "End of roster\n"
          ]
        }
      ]
    },
    {
      "cell_type": "markdown",
      "source": [
        "**iterators**\n",
        "when programmers create loops, they do so to loop through all the values of a set or list. Although the for and while loops are possible solutions in such a case, there is another way to effectively loop through values in a set or list: iterators."
      ],
      "metadata": {
        "id": "z2_XriScDtBl"
      }
    },
    {
      "cell_type": "code",
      "source": [
        "my_list = [4, 8, 15, 16, 23, 42]\n",
        "my_iterator = iter(my_list)\n",
        "print(next(my_iterator))\n",
        "print(next(my_iterator))\n",
        "print(next(my_iterator))\n",
        "print(next(my_iterator))\n",
        "print(next(my_iterator))\n",
        "print(next(my_iterator))"
      ],
      "metadata": {
        "colab": {
          "base_uri": "https://localhost:8080/"
        },
        "id": "PaevY-JZDUfK",
        "outputId": "36fbcb7b-b2da-491f-92c7-5f9b294e5610"
      },
      "execution_count": null,
      "outputs": [
        {
          "output_type": "stream",
          "name": "stdout",
          "text": [
            "4\n",
            "8\n",
            "15\n",
            "16\n",
            "23\n",
            "42\n"
          ]
        }
      ]
    },
    {
      "cell_type": "markdown",
      "source": [
        "**comprehensions**\n",
        "With comprehensions, we can create a new list by using values from an existing list, greatly simplifying our code. Here’s a way to create the same list of squared numbers using a list comprehension:\n",
        "\n"
      ],
      "metadata": {
        "id": "HYUNQIKHERIx"
      }
    },
    {
      "cell_type": "code",
      "source": [
        "my_numbers = [4, 8, 15, 16, 23, 42]\n",
        "my_new_numbers = []\n",
        "for x in my_numbers:\n",
        "   my_new_numbers.append(x*x)\n",
        "print(my_new_numbers)\n",
        "\"\"\"below you find expression eauivalent to this one, \n",
        "to create a new list based on an already existing one\"\"\""
      ],
      "metadata": {
        "colab": {
          "base_uri": "https://localhost:8080/"
        },
        "id": "hE7y2QjTEz3u",
        "outputId": "95890447-9855-45e8-f8dc-f2910fb05cc8"
      },
      "execution_count": null,
      "outputs": [
        {
          "output_type": "stream",
          "name": "stdout",
          "text": [
            "[16, 64, 225, 256, 529, 1764]\n"
          ]
        }
      ]
    },
    {
      "cell_type": "code",
      "source": [
        "my_numbers = [4, 8, 15, 16, 23, 42]\n",
        "\"\"\"my_new_numbers = [n*n for n in my_numbers]\n",
        "print(my_new_numbers)\"\"\"\n",
        "my_new_numbers = []\n",
        "for n in my_numbers:\n",
        "   my_new_numbers.append(n*n)\n",
        "print(my_new_numbers)"
      ],
      "metadata": {
        "colab": {
          "base_uri": "https://localhost:8080/"
        },
        "id": "f3K0SU-SEXC5",
        "outputId": "a31a8562-80d0-45cd-eb59-55ad1787d5dc"
      },
      "execution_count": null,
      "outputs": [
        {
          "output_type": "stream",
          "name": "stdout",
          "text": [
            "[16, 64, 225, 256, 529, 1764]\n"
          ]
        }
      ]
    },
    {
      "cell_type": "code",
      "source": [
        "#functions\n",
        "def my_first_function():\n",
        "   print(\"I can't believe I'm in a function!\")\n",
        " \n",
        "print(\"I'm not in a function!\")\n",
        "my_first_function()\n",
        "print(\"I'm not in a function anymore!\")"
      ],
      "metadata": {
        "colab": {
          "base_uri": "https://localhost:8080/"
        },
        "id": "_CAAzt3JCkMD",
        "outputId": "a6cbb943-63c6-466c-a2d4-9d4a9bde9891"
      },
      "execution_count": null,
      "outputs": [
        {
          "output_type": "stream",
          "name": "stdout",
          "text": [
            "I'm not in a function!\n",
            "I can't believe I'm in a function!\n",
            "I'm not in a function anymore!\n"
          ]
        }
      ]
    },
    {
      "cell_type": "code",
      "source": [
        "#scope Scope is the term used to describe the points at which in code variables and functions are defined.\n",
        "def my_function():\n",
        "   print(\"Nice function!\")\n",
        "   my_variable = \"I love functions!\"\n",
        "   print(\"my_variable = \" + my_variable)\n",
        "print(\"Starting program.\")\n",
        "my_function()\n",
        "if my_variable == \"Quit\":\n",
        "   print(\"Ending program.\")"
      ],
      "metadata": {
        "colab": {
          "base_uri": "https://localhost:8080/",
          "height": 269
        },
        "id": "ZZW9FrZJGjAz",
        "outputId": "0d5807f6-8ee9-452f-c887-ad2478094827"
      },
      "execution_count": null,
      "outputs": [
        {
          "output_type": "stream",
          "name": "stdout",
          "text": [
            "Starting program.\n",
            "Nice function!\n",
            "my_variable = I love functions!\n"
          ]
        },
        {
          "output_type": "error",
          "ename": "NameError",
          "evalue": "ignored",
          "traceback": [
            "\u001b[0;31m---------------------------------------------------------------------------\u001b[0m",
            "\u001b[0;31mNameError\u001b[0m                                 Traceback (most recent call last)",
            "\u001b[0;32m<ipython-input-4-4237afb07d65>\u001b[0m in \u001b[0;36m<module>\u001b[0;34m()\u001b[0m\n\u001b[1;32m      6\u001b[0m \u001b[0mprint\u001b[0m\u001b[0;34m(\u001b[0m\u001b[0;34m\"Starting program.\"\u001b[0m\u001b[0;34m)\u001b[0m\u001b[0;34m\u001b[0m\u001b[0;34m\u001b[0m\u001b[0m\n\u001b[1;32m      7\u001b[0m \u001b[0mmy_function\u001b[0m\u001b[0;34m(\u001b[0m\u001b[0;34m)\u001b[0m\u001b[0;34m\u001b[0m\u001b[0;34m\u001b[0m\u001b[0m\n\u001b[0;32m----> 8\u001b[0;31m \u001b[0;32mif\u001b[0m \u001b[0mmy_variable\u001b[0m \u001b[0;34m==\u001b[0m \u001b[0;34m\"Quit\"\u001b[0m\u001b[0;34m:\u001b[0m\u001b[0;34m\u001b[0m\u001b[0;34m\u001b[0m\u001b[0m\n\u001b[0m\u001b[1;32m      9\u001b[0m    \u001b[0mprint\u001b[0m\u001b[0;34m(\u001b[0m\u001b[0;34m\"Ending program.\"\u001b[0m\u001b[0;34m)\u001b[0m\u001b[0;34m\u001b[0m\u001b[0;34m\u001b[0m\u001b[0m\n",
            "\u001b[0;31mNameError\u001b[0m: name 'my_variable' is not defined"
          ]
        }
      ]
    },
    {
      "cell_type": "code",
      "source": [
        "def my_variable():\n",
        "   my_variable = \"Inside of the function\"\n",
        "   print(\"my_variable = \" + my_variable)\n",
        "my_variable = \"Outside of the function\"\n",
        "print(\"my_variable = \" + my_variable)\n",
        "my_function()\n",
        "print(\"my_variable = \" + my_variable)"
      ],
      "metadata": {
        "colab": {
          "base_uri": "https://localhost:8080/"
        },
        "id": "Kg_qtuTeIeZd",
        "outputId": "8747696c-5832-431d-d605-6d23f60c0aa5"
      },
      "execution_count": null,
      "outputs": [
        {
          "output_type": "stream",
          "name": "stdout",
          "text": [
            "my_variable = Outside of the function\n",
            "Nice function!\n",
            "my_variable = I love functions!\n",
            "my_variable = Outside of the function\n"
          ]
        }
      ]
    },
    {
      "cell_type": "code",
      "source": [
        "def my_function():\n",
        "    print(\"In my function.\")\n",
        "    def my_nested_function():\n",
        "        print(\"In my nested function.\")\n",
        "        print(\"Exiting my nested function.\")\n",
        "    print(\"About to call the nester function. \")\n",
        "    my_nested_function()\n",
        "    print(\"Finishing call to nested function. \")\n",
        "    print(\"Exiting my function.\")\n",
        "print(\"About to call my function.\")\n",
        "my_function()\n",
        "print(\"Finished call to my function. \")"
      ],
      "metadata": {
        "colab": {
          "base_uri": "https://localhost:8080/"
        },
        "id": "oUB7uSErKIFy",
        "outputId": "a71f3d35-bb60-4af9-a90f-5505f28aa410"
      },
      "execution_count": null,
      "outputs": [
        {
          "output_type": "stream",
          "name": "stdout",
          "text": [
            "About to call my function.\n",
            "In my function.\n",
            "About to call the nester function. \n",
            "In my nested function.\n",
            "Exiting my nested function.\n",
            "Finishing call to nested function. \n",
            "Exiting my function.\n",
            "Finished call to my function. \n"
          ]
        }
      ]
    },
    {
      "cell_type": "code",
      "source": [
        "def my_function():\n",
        "  a = 5\n",
        "  b = 5\n",
        "\n",
        "a = 1\n",
        "b = 1\n",
        "my_function()\n",
        "print(a + b)  "
      ],
      "metadata": {
        "colab": {
          "base_uri": "https://localhost:8080/"
        },
        "id": "cFwFQVK5Ncin",
        "outputId": "475faff8-657e-4e41-f49b-11afa2f75cf5"
      },
      "execution_count": null,
      "outputs": [
        {
          "output_type": "stream",
          "name": "stdout",
          "text": [
            "2\n"
          ]
        }
      ]
    },
    {
      "cell_type": "code",
      "source": [
        ""
      ],
      "metadata": {
        "colab": {
          "base_uri": "https://localhost:8080/",
          "height": 235
        },
        "id": "Qpt633k7OJx2",
        "outputId": "7d3cf509-7673-478e-dc68-5a602e7d5459"
      },
      "execution_count": null,
      "outputs": [
        {
          "output_type": "error",
          "ename": "NameError",
          "evalue": "ignored",
          "traceback": [
            "\u001b[0;31m---------------------------------------------------------------------------\u001b[0m",
            "\u001b[0;31mNameError\u001b[0m                                 Traceback (most recent call last)",
            "\u001b[0;32m<ipython-input-12-7c90667914c1>\u001b[0m in \u001b[0;36m<module>\u001b[0;34m()\u001b[0m\n\u001b[1;32m      1\u001b[0m \u001b[0ma\u001b[0m \u001b[0;34m=\u001b[0m \u001b[0;36m1\u001b[0m\u001b[0;34m\u001b[0m\u001b[0;34m\u001b[0m\u001b[0m\n\u001b[1;32m      2\u001b[0m \u001b[0mb\u001b[0m \u001b[0;34m=\u001b[0m \u001b[0;36m1\u001b[0m\u001b[0;34m\u001b[0m\u001b[0;34m\u001b[0m\u001b[0m\n\u001b[0;32m----> 3\u001b[0;31m \u001b[0madd_them\u001b[0m\u001b[0;34m(\u001b[0m\u001b[0;34m)\u001b[0m\u001b[0;34m\u001b[0m\u001b[0;34m\u001b[0m\u001b[0m\n\u001b[0m\u001b[1;32m      4\u001b[0m \u001b[0mprint\u001b[0m\u001b[0;34m(\u001b[0m\u001b[0ma\u001b[0m \u001b[0;34m+\u001b[0m \u001b[0mb\u001b[0m\u001b[0;34m)\u001b[0m\u001b[0;34m\u001b[0m\u001b[0;34m\u001b[0m\u001b[0m\n\u001b[1;32m      5\u001b[0m \u001b[0;34m\u001b[0m\u001b[0m\n",
            "\u001b[0;31mNameError\u001b[0m: name 'add_them' is not defined"
          ]
        }
      ]
    },
    {
      "cell_type": "code",
      "source": [
        "year = 2022\n",
        "birth_year = input()\n",
        "\n",
        "print(\"my age is\" , year - int(birth_year), \"years old\")"
      ],
      "metadata": {
        "colab": {
          "base_uri": "https://localhost:8080/"
        },
        "id": "zDUcejogSWhu",
        "outputId": "f4b11ff4-ffd5-4a2a-81d3-c8f755b480d1"
      },
      "execution_count": null,
      "outputs": [
        {
          "output_type": "stream",
          "name": "stdout",
          "text": [
            "2000\n",
            "my age is 22 years old\n"
          ]
        }
      ]
    },
    {
      "cell_type": "code",
      "source": [
        "def add_three_numbers(a, b, c):\n",
        "    the_sum = a + b + c\n",
        "    print(\"The sum of \" + str(a) + \", \" + str(b) + \", and \" \n",
        "          + str(c) +\" is: \" + str(the_sum))\n",
        "add_three_numbers(1, 2, 3)\n",
        "add_three_numbers(10, 20, 30)\n",
        "add_three_numbers(-123, 9271, -712)"
      ],
      "metadata": {
        "colab": {
          "base_uri": "https://localhost:8080/"
        },
        "id": "vf94k2mLj0dR",
        "outputId": "6a19256d-1b43-4730-9887-ded152a0c0f5"
      },
      "execution_count": null,
      "outputs": [
        {
          "output_type": "stream",
          "name": "stdout",
          "text": [
            "The sum of 1, 2, and 3 is: 6\n",
            "The sum of 10, 20, and 30 is: 60\n",
            "The sum of -123, 9271, and -712 is: 8436\n"
          ]
        }
      ]
    },
    {
      "cell_type": "code",
      "source": [
        "def person_info(name, phone, address, age):\n",
        "   print(name)\n",
        "   print(\"Phone:\" + phone)\n",
        "   print(\"Address:\" + address) \n",
        "   print(\"Age:\" + str(age))\n",
        "                         \n",
        "person_info( \"Alyssa\", \"423-192-2311\", \"152 Wander Lane\", 23)"
      ],
      "metadata": {
        "colab": {
          "base_uri": "https://localhost:8080/"
        },
        "id": "ToW-SEH8muYt",
        "outputId": "423c9687-d460-4468-d490-736066ac723a"
      },
      "execution_count": null,
      "outputs": [
        {
          "output_type": "stream",
          "name": "stdout",
          "text": [
            "Alyssa\n",
            "Phone:423-192-2311\n",
            "Address:152 Wander Lane\n",
            "Age:23\n"
          ]
        }
      ]
    },
    {
      "cell_type": "markdown",
      "source": [
        "**Return Values**\n",
        "Return ValuesNot only can you pass values into functions, you can also get values back. Functions do this via something called a “return statement.” A return statement simply uses the keyword “return” followed by a value or set of values that you want to return to the program at the point you called the function. One thing to note: the return statement will exit your function, so make sure you do not have code that you want to run placed inside your function after your return statement—that code will never be executed!"
      ],
      "metadata": {
        "id": "kWeAdc-HnwSS"
      }
    },
    {
      "cell_type": "code",
      "source": [
        "def return_one_thing(a, b):\n",
        "    result = a + b\n",
        "    return result\n",
        "def return_two_things(a, b):\n",
        "    result1 = a + b\n",
        "    result2 = a - b\n",
        "    return (result1, result2)\n",
        "print(return_one_thing(5, 6))\n",
        "print(return_two_things(5, 6))"
      ],
      "metadata": {
        "colab": {
          "base_uri": "https://localhost:8080/"
        },
        "id": "C8r2qrlGn6yn",
        "outputId": "482d832d-4438-4034-b77e-279a0dbbcd0f"
      },
      "execution_count": null,
      "outputs": [
        {
          "output_type": "stream",
          "name": "stdout",
          "text": [
            "11\n",
            "(11, -1)\n"
          ]
        }
      ]
    },
    {
      "cell_type": "markdown",
      "source": [
        "**errors types**\n",
        "SyntaxError vs exceptions \n",
        "A syntax error occurs when code does not conform to syntax rules. For example, remember the syntax rules for if statements? If statements use the keyword “if,” followed by a conditional expression, followed by a colon, followed by a block of indented code. If those rules are broken, a syntax error will occur."
      ],
      "metadata": {
        "id": "dYHdzRA3pkos"
      }
    },
    {
      "cell_type": "code",
      "source": [
        "value = int(input())\n",
        "if value == 10\n",
        "  print('you entered 10')"
      ],
      "metadata": {
        "colab": {
          "base_uri": "https://localhost:8080/",
          "height": 130
        },
        "id": "-G3a8c-xPmMZ",
        "outputId": "43b70e03-37c4-4de6-f5e0-02056c6a29bf"
      },
      "execution_count": null,
      "outputs": [
        {
          "output_type": "error",
          "ename": "SyntaxError",
          "evalue": "ignored",
          "traceback": [
            "\u001b[0;36m  File \u001b[0;32m\"<ipython-input-3-b170a9c1e2b9>\"\u001b[0;36m, line \u001b[0;32m2\u001b[0m\n\u001b[0;31m    if value == 10\u001b[0m\n\u001b[0m                  ^\u001b[0m\n\u001b[0;31mSyntaxError\u001b[0m\u001b[0;31m:\u001b[0m invalid syntax\n"
          ]
        }
      ]
    },
    {
      "cell_type": "markdown",
      "source": [
        "Sometimes, code that conforms to Python programming rules and does not cause a syntax error will still break during execution of the program. An error that occurs during program execution and disrupts the normal flow of a program is called an **exception**\\"
      ],
      "metadata": {
        "id": "iYBTaXSLQGxP"
      }
    },
    {
      "cell_type": "code",
      "source": [
        "#devision by 0 error\n",
        "value = input()\n",
        "result = str(5 / int(value))\n",
        "print(\"5 divided by \" + value + \" = \" + result)"
      ],
      "metadata": {
        "colab": {
          "base_uri": "https://localhost:8080/",
          "height": 217
        },
        "id": "DgL4IMeXQKjV",
        "outputId": "299ef549-f820-4fef-b105-dfb2dc38f1ca"
      },
      "execution_count": null,
      "outputs": [
        {
          "name": "stdout",
          "output_type": "stream",
          "text": [
            "0\n"
          ]
        },
        {
          "output_type": "error",
          "ename": "ZeroDivisionError",
          "evalue": "ignored",
          "traceback": [
            "\u001b[0;31m---------------------------------------------------------------------------\u001b[0m",
            "\u001b[0;31mZeroDivisionError\u001b[0m                         Traceback (most recent call last)",
            "\u001b[0;32m<ipython-input-10-d3ba6166a0d9>\u001b[0m in \u001b[0;36m<module>\u001b[0;34m()\u001b[0m\n\u001b[1;32m      1\u001b[0m \u001b[0mvalue\u001b[0m \u001b[0;34m=\u001b[0m \u001b[0minput\u001b[0m\u001b[0;34m(\u001b[0m\u001b[0;34m)\u001b[0m\u001b[0;34m\u001b[0m\u001b[0;34m\u001b[0m\u001b[0m\n\u001b[0;32m----> 2\u001b[0;31m \u001b[0mresult\u001b[0m \u001b[0;34m=\u001b[0m \u001b[0mstr\u001b[0m\u001b[0;34m(\u001b[0m\u001b[0;36m5\u001b[0m \u001b[0;34m/\u001b[0m \u001b[0mint\u001b[0m\u001b[0;34m(\u001b[0m\u001b[0mvalue\u001b[0m\u001b[0;34m)\u001b[0m\u001b[0;34m)\u001b[0m\u001b[0;34m\u001b[0m\u001b[0;34m\u001b[0m\u001b[0m\n\u001b[0m\u001b[1;32m      3\u001b[0m \u001b[0mprint\u001b[0m\u001b[0;34m(\u001b[0m\u001b[0;34m\"5 divided by \"\u001b[0m \u001b[0;34m+\u001b[0m \u001b[0mvalue\u001b[0m \u001b[0;34m+\u001b[0m \u001b[0;34m\" = \"\u001b[0m \u001b[0;34m+\u001b[0m \u001b[0mresult\u001b[0m\u001b[0;34m)\u001b[0m\u001b[0;34m\u001b[0m\u001b[0;34m\u001b[0m\u001b[0m\n",
            "\u001b[0;31mZeroDivisionError\u001b[0m: division by zero"
          ]
        }
      ]
    },
    {
      "cell_type": "code",
      "source": [
        "#file not found error\n",
        "file_name = input()\n",
        "my_file = open(file_name, \"r\")\n",
        "print(my_file.read())\n",
        "my_file.close()"
      ],
      "metadata": {
        "colab": {
          "base_uri": "https://localhost:8080/",
          "height": 252
        },
        "id": "LIQqVk74RmZz",
        "outputId": "f20e4c38-f241-4000-ab7a-9b49d0b071c2"
      },
      "execution_count": null,
      "outputs": [
        {
          "name": "stdout",
          "output_type": "stream",
          "text": [
            "hi.txt\n"
          ]
        },
        {
          "output_type": "error",
          "ename": "FileNotFoundError",
          "evalue": "ignored",
          "traceback": [
            "\u001b[0;31m---------------------------------------------------------------------------\u001b[0m",
            "\u001b[0;31mFileNotFoundError\u001b[0m                         Traceback (most recent call last)",
            "\u001b[0;32m<ipython-input-11-e7fb059d4769>\u001b[0m in \u001b[0;36m<module>\u001b[0;34m()\u001b[0m\n\u001b[1;32m      1\u001b[0m \u001b[0;31m#file not found error\u001b[0m\u001b[0;34m\u001b[0m\u001b[0;34m\u001b[0m\u001b[0;34m\u001b[0m\u001b[0m\n\u001b[1;32m      2\u001b[0m \u001b[0mfile_name\u001b[0m \u001b[0;34m=\u001b[0m \u001b[0minput\u001b[0m\u001b[0;34m(\u001b[0m\u001b[0;34m)\u001b[0m\u001b[0;34m\u001b[0m\u001b[0;34m\u001b[0m\u001b[0m\n\u001b[0;32m----> 3\u001b[0;31m \u001b[0mmy_file\u001b[0m \u001b[0;34m=\u001b[0m \u001b[0mopen\u001b[0m\u001b[0;34m(\u001b[0m\u001b[0mfile_name\u001b[0m\u001b[0;34m,\u001b[0m \u001b[0;34m\"r\"\u001b[0m\u001b[0;34m)\u001b[0m\u001b[0;34m\u001b[0m\u001b[0;34m\u001b[0m\u001b[0m\n\u001b[0m\u001b[1;32m      4\u001b[0m \u001b[0mprint\u001b[0m\u001b[0;34m(\u001b[0m\u001b[0mmy_file\u001b[0m\u001b[0;34m.\u001b[0m\u001b[0mread\u001b[0m\u001b[0;34m(\u001b[0m\u001b[0;34m)\u001b[0m\u001b[0;34m)\u001b[0m\u001b[0;34m\u001b[0m\u001b[0;34m\u001b[0m\u001b[0m\n\u001b[1;32m      5\u001b[0m \u001b[0mmy_file\u001b[0m\u001b[0;34m.\u001b[0m\u001b[0mclose\u001b[0m\u001b[0;34m(\u001b[0m\u001b[0;34m)\u001b[0m\u001b[0;34m\u001b[0m\u001b[0;34m\u001b[0m\u001b[0m\n",
            "\u001b[0;31mFileNotFoundError\u001b[0m: [Errno 2] No such file or directory: 'hi.txt'"
          ]
        }
      ]
    },
    {
      "cell_type": "markdown",
      "source": [
        "**try & expect**\n",
        "We can code for exceptions, and if we handle them correctly, we can prevent the application from crashing when an exception occurs. The first step in doing so is to use the “try” statement preceding any block of code in which we think an exception may occur. The try statement consists of simply the word “try” followed by a colon. Any code in the indented block that follows the try statement will be set up for the proper handling of exceptions. Next, you use the “except” clause after the try block of code. The except clause will catch any exceptions of the type specified that occur within the try block"
      ],
      "metadata": {
        "id": "ZQe7UxUrStR9"
      }
    },
    {
      "cell_type": "code",
      "source": [
        "#divide by 0 code with try/except\n",
        "try:\n",
        "  value = input()\n",
        "  result = str(5 / int(value))\n",
        "  print(\"5 divided by \" + value + \" = \" + result)\n",
        "except ZeroDivisionError:\n",
        "   print(\"You tried to divide by zero!\")\n",
        "print(\"We're now at the end of the program.\")"
      ],
      "metadata": {
        "colab": {
          "base_uri": "https://localhost:8080/"
        },
        "id": "KjFStDEhSsat",
        "outputId": "22565318-f4d6-409a-b814-93d28ee6eefe"
      },
      "execution_count": null,
      "outputs": [
        {
          "output_type": "stream",
          "name": "stdout",
          "text": [
            "5\n",
            "5 divided by 5 = 1.0\n",
            "We're now at the end of the program.\n"
          ]
        }
      ]
    },
    {
      "cell_type": "code",
      "source": [
        "#try block - reading a file\n",
        "\n",
        "try:\n",
        "   file_name = input()\n",
        "   my_file = open(file_name, \"r\")\n",
        "   print(my_file.read())\n",
        "   my_file.close()\n",
        "except FileNotFoundError:\n",
        "   print(\"File not found\")\n",
        "print(\"End of program\")"
      ],
      "metadata": {
        "colab": {
          "base_uri": "https://localhost:8080/"
        },
        "id": "K429_z5JTuFR",
        "outputId": "6d1f5670-6d63-4b33-cd70-2bdcb207e3ba"
      },
      "execution_count": null,
      "outputs": [
        {
          "output_type": "stream",
          "name": "stdout",
          "text": [
            "hi.txt\n",
            "File not found\n",
            "End of program\n"
          ]
        }
      ]
    },
    {
      "cell_type": "markdown",
      "source": [
        "**Finally clause**\n",
        "\n",
        "In some cases, you may want to ensure some code runs as part of the try statement regardless of whether or not an exception occurred. You can do this by adding a “finally” clause to the end of the try/except block. Code in the finally block will always run after a try/except block regardless of errors"
      ],
      "metadata": {
        "id": "WD9NTElhUMrr"
      }
    },
    {
      "cell_type": "code",
      "source": [
        "try:\n",
        "   my_variable = 10/0\n",
        "except ZeroDivisionError:\n",
        "   print(\"Divided by zero!\")\n",
        "finally:\n",
        "   print(\"Here's our finally block.\")\n",
        "print(\"End of program\")"
      ],
      "metadata": {
        "colab": {
          "base_uri": "https://localhost:8080/"
        },
        "id": "0olwEuFuUiUC",
        "outputId": "5b97eae4-3f67-487d-8206-eb680f375b6d"
      },
      "execution_count": null,
      "outputs": [
        {
          "output_type": "stream",
          "name": "stdout",
          "text": [
            "Divided by zero!\n",
            "Here's our finally block.\n",
            "End of program\n"
          ]
        }
      ]
    },
    {
      "cell_type": "code",
      "source": [
        ""
      ],
      "metadata": {
        "id": "1HweBM39ZyxV"
      },
      "execution_count": null,
      "outputs": []
    },
    {
      "cell_type": "markdown",
      "source": [
        "**raise**\n",
        "\n",
        "You may find times when it would be important for you to raise an exception on your own as the programmer. You can do this by using the “raise” command, followed by the exception that you’d like to raise."
      ],
      "metadata": {
        "id": "bIwhEqxeVGAY"
      }
    },
    {
      "cell_type": "code",
      "source": [
        "try:\n",
        "  raise ZeroDivisionError\n",
        "finally:\n",
        "   print(\"Here's our finally block.\")\n",
        "print(\"End of program\")"
      ],
      "metadata": {
        "colab": {
          "base_uri": "https://localhost:8080/",
          "height": 252
        },
        "id": "LVPE5J1sVJpN",
        "outputId": "95f0de82-0bbb-427f-ab7f-e0e2ba7cdc6f"
      },
      "execution_count": null,
      "outputs": [
        {
          "output_type": "stream",
          "name": "stdout",
          "text": [
            "Here's our finally block.\n"
          ]
        },
        {
          "output_type": "error",
          "ename": "ZeroDivisionError",
          "evalue": "ignored",
          "traceback": [
            "\u001b[0;31m---------------------------------------------------------------------------\u001b[0m",
            "\u001b[0;31mZeroDivisionError\u001b[0m                         Traceback (most recent call last)",
            "\u001b[0;32m<ipython-input-17-0a3ae70402c0>\u001b[0m in \u001b[0;36m<module>\u001b[0;34m()\u001b[0m\n\u001b[1;32m      1\u001b[0m \u001b[0;32mtry\u001b[0m\u001b[0;34m:\u001b[0m\u001b[0;34m\u001b[0m\u001b[0;34m\u001b[0m\u001b[0m\n\u001b[0;32m----> 2\u001b[0;31m   \u001b[0;32mraise\u001b[0m \u001b[0mZeroDivisionError\u001b[0m\u001b[0;34m\u001b[0m\u001b[0;34m\u001b[0m\u001b[0m\n\u001b[0m\u001b[1;32m      3\u001b[0m \u001b[0;32mfinally\u001b[0m\u001b[0;34m:\u001b[0m\u001b[0;34m\u001b[0m\u001b[0;34m\u001b[0m\u001b[0m\n\u001b[1;32m      4\u001b[0m    \u001b[0mprint\u001b[0m\u001b[0;34m(\u001b[0m\u001b[0;34m\"Here's our finally block.\"\u001b[0m\u001b[0;34m)\u001b[0m\u001b[0;34m\u001b[0m\u001b[0;34m\u001b[0m\u001b[0m\n\u001b[1;32m      5\u001b[0m \u001b[0mprint\u001b[0m\u001b[0;34m(\u001b[0m\u001b[0;34m\"End of program\"\u001b[0m\u001b[0;34m)\u001b[0m\u001b[0;34m\u001b[0m\u001b[0;34m\u001b[0m\u001b[0m\n",
            "\u001b[0;31mZeroDivisionError\u001b[0m: "
          ]
        }
      ]
    },
    {
      "cell_type": "markdown",
      "source": [
        "qts: I’m writing code where I’ll be accessing a file. It’s a likely place for a file input/output error to occur. What’s the best way to handle that?\n",
        "ans : Place all file I/O code in a try/except block and specify file-related errors in the except block. This will catch file errors we anticipate, but nothing else"
      ],
      "metadata": {
        "id": "PNDYCuFGY4mN"
      }
    },
    {
      "cell_type": "markdown",
      "source": [
        "**logs :logical error & debugging**\n",
        "\n",
        "what if you wanted to add two variables (a and b) and instead of typing a + b, you accidentally typed a – b? This code is still syntactically correct, and, assuming a + b wouldn’t cause an exception, a – b won’t cause an exception either. Yet when you run this code, you are likely to find that the result is very different from what you anticipated. This type of error is called a “logical error.”\n",
        "\n",
        "Logical errors are perhaps the most difficult errors to find in programming because you don’t get the benefit of the interpreter pointing to the likely location of the error. Instead, the only way to tell if you have a logical error is to carefully compare obtained results to expected results to make sure the program is doing what you wanted it to do. Once you identify that you have an unintended result, you have to dig into the code and try to figure out where and when the logical error occurs.\n",
        "\n",
        "This process of identifying and fixing the cause of a logical error is called **debugging**, which can be a painstaking process.\n",
        "Luckily, there are some **built-in** tools that can help us through the debugging process. **Logging**, or writing data to log files as the program executes, is one such tool. Logging allows a programmer to get a better sense of program flow and what is happening within the program at critical points."
      ],
      "metadata": {
        "id": "FCgGKN9tZb9h"
      }
    },
    {
      "cell_type": "markdown",
      "source": [
        "In order to use logging in Python, we have to import the logging library to our program. This is done with one line of code: ***import logging.***\n",
        "Logging in Python has five different levels of severity in terms of which information is being logged. Those are, in order of lowest severity to highest, the following:\n",
        "1.   debug\n",
        "2.   info\n",
        "1.   warning\n",
        "2.  error\n",
        "1. critical\n",
        "\n",
        "\n"
      ],
      "metadata": {
        "id": "3yXho0U9aoHZ"
      }
    },
    {
      "cell_type": "code",
      "source": [
        "import logging\n",
        "logging.debug(\"Debug is the lowest log level in severity\")\n",
        "logging.info(\"Info is the second lowest log level\")\n",
        "logging.warning( \"Warning is the third level\") #python default logging lvl is warning\n",
        "logging.error(\"Error is the fourth level\")\n",
        "logging.critical(\"Critical is the fifth and highest level\")"
      ],
      "metadata": {
        "colab": {
          "base_uri": "https://localhost:8080/"
        },
        "id": "fcTYSP79bQFb",
        "outputId": "471da6ce-dff7-4069-a138-dd10ffc1b11b"
      },
      "execution_count": null,
      "outputs": [
        {
          "output_type": "stream",
          "name": "stderr",
          "text": [
            "WARNING:root:Warning is the third level\n",
            "ERROR:root:Error is the fourth level\n",
            "CRITICAL:root:Critical is the fifth and highest level\n"
          ]
        }
      ]
    },
    {
      "cell_type": "code",
      "source": [
        "import logging\n",
        "\n",
        "logging.basicConfig(level=logging.DEBUG) #to change default log lvl\n",
        "\n",
        "logging.debug(\"Debug is the lowest log level in severity\")\n",
        "logging.info(\"Info is the second lowest log level\")\n",
        "logging.warning(\"Warning is the third level\")\n",
        "logging.error(\"Error is the fourth level\")\n",
        "logging.critical(\"Critical is the fifth and highest level\")"
      ],
      "metadata": {
        "colab": {
          "base_uri": "https://localhost:8080/"
        },
        "id": "88v8t01tacCU",
        "outputId": "38b82524-7219-47ff-f72d-ce7fa0c0dc2f"
      },
      "execution_count": null,
      "outputs": [
        {
          "output_type": "stream",
          "name": "stderr",
          "text": [
            "WARNING:root:Warning is the third level\n",
            "ERROR:root:Error is the fourth level\n",
            "CRITICAL:root:Critical is the fifth and highest level\n"
          ]
        }
      ]
    },
    {
      "cell_type": "code",
      "source": [
        "import logging\n",
        "logging.basicConfig(filename=\"mylog.log\", filemode=\"w\", level=logging.DEBUG)\n",
        "logging.debug( \"Debug is the lowest log level in severity\")\n",
        "logging.info(\"Info is the second lowest log level\")\n",
        "logging.warning( \"Warning is the third level\")\n",
        "logging.error(\"Error is the fourth level\")\n",
        "logging.critical(\"Critical is the fifth and highest level\")"
      ],
      "metadata": {
        "id": "lye9OrbKdbDI"
      },
      "execution_count": null,
      "outputs": []
    },
    {
      "cell_type": "code",
      "source": [
        "import logging\n",
        "logging.basicConfig(format=\"%(asctime)s: %(message)s\")\n",
        "logging.critical(\"My log message\")"
      ],
      "metadata": {
        "colab": {
          "base_uri": "https://localhost:8080/"
        },
        "id": "tsPJkhQ7fS1U",
        "outputId": "7344c19c-9f79-4e06-d68f-e9c5cd958624"
      },
      "execution_count": null,
      "outputs": [
        {
          "output_type": "stream",
          "name": "stderr",
          "text": [
            "2022-01-07 12:31:46,204: My log message\n"
          ]
        }
      ]
    },
    {
      "cell_type": "markdown",
      "source": [
        "![log format.png](data:image/png;base64,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)"
      ],
      "metadata": {
        "id": "w4ws0Qk5fhf5"
      }
    },
    {
      "cell_type": "code",
      "source": [
        ""
      ],
      "metadata": {
        "id": "wo1UMx4igMQT"
      },
      "execution_count": null,
      "outputs": []
    },
    {
      "cell_type": "markdown",
      "source": [
        "**unit 6 : modules & packages**\n"
      ],
      "metadata": {
        "id": "uY7wjMizckyh"
      }
    },
    {
      "cell_type": "code",
      "source": [
        "\"\"\"namespace\"\"\"\n",
        "#redefining floor\n",
        "from math import floor\n",
        "print(floor(7.999))\n",
        "def floor(a):\n",
        "   if a == 1:\n",
        "      return \"First floor\"\n",
        "   elif a == 2:\n",
        "      return \"Second floor\"\n",
        "   elif a == 3:\n",
        "      return \"Third floor\"\n",
        "print(floor(2))"
      ],
      "metadata": {
        "colab": {
          "base_uri": "https://localhost:8080/"
        },
        "id": "dGaIDKOOcyYn",
        "outputId": "2a8a3e7b-9aac-45d7-ac96-a34db6a180ff"
      },
      "execution_count": null,
      "outputs": [
        {
          "output_type": "stream",
          "name": "stdout",
          "text": [
            "7\n",
            "Second floor\n"
          ]
        }
      ]
    },
    {
      "cell_type": "markdown",
      "source": [
        "In Python, a namespace represents a way of outlining categories of names to reduce name reuse and overwriting. Python namespaces include the following:\n",
        "\n",
        "***built-in namespace:*** contains all built-in functions and exceptions.\n",
        "﻿***global namespace:*** contains all the names of variables and functions you create in your program that exist outside of functions\n",
        "***local namespace:*** contains only names within a given function.\n",
        "﻿For example, look at the code snippet below:"
      ],
      "metadata": {
        "id": "vd1GaVcjdowr"
      }
    },
    {
      "cell_type": "code",
      "source": [
        "my_str = \"Hello, World!\"\n",
        "print(my_str)\n",
        "       \n",
        "def print_it_x_times(str, x):\n",
        "   a = 0\n",
        "   while a < x:\n",
        "      print(str)\n",
        "      a += 1\n",
        "print_times = 5\n",
        "print_it_x_times( \"Hello again, World!\", print_times)"
      ],
      "metadata": {
        "colab": {
          "base_uri": "https://localhost:8080/"
        },
        "id": "nXkdtXSNd1x8",
        "outputId": "377f1043-de17-49bb-9b18-4dc31154974b"
      },
      "execution_count": null,
      "outputs": [
        {
          "output_type": "stream",
          "name": "stdout",
          "text": [
            "Hello, World!\n",
            "Hello again, World!\n",
            "Hello again, World!\n",
            "Hello again, World!\n",
            "Hello again, World!\n",
            "Hello again, World!\n"
          ]
        }
      ]
    },
    {
      "cell_type": "markdown",
      "source": [
        "![image.png](data:image/png;base64,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)"
      ],
      "metadata": {
        "id": "OA9KFSIJfT4e"
      }
    },
    {
      "cell_type": "code",
      "source": [
        "#documentation\n",
        "\"\"\"version 1:\"\"\"\n",
        "def do_math(a,b):\n",
        "  c = a * b\n",
        "  return c\n",
        "print(do_math(25,10))\n",
        "\"\"\"verssion 2:\"\"\"\n",
        "def get_sales_tax(item_price, tax_rate):\n",
        "   #docstring \"\"\n",
        "   \"\"\"# This function returns the tax for the purchase of an item\n",
        "    # item_price is the price of the item being purchased\n",
        "    # tax_rate should be a floating-point tax rate (e.g., .07)\"\"\"\n",
        "   tax = item_price * tax_rate \n",
        "   return tax\n",
        "print(get_sales_tax(25,10))\n",
        "help(get_sales_tax)\n"
      ],
      "metadata": {
        "colab": {
          "base_uri": "https://localhost:8080/"
        },
        "id": "DPGgYPjnfXPN",
        "outputId": "17d206ce-aa70-4ee0-98c4-0d39a5a76a0e"
      },
      "execution_count": null,
      "outputs": [
        {
          "output_type": "stream",
          "name": "stdout",
          "text": [
            "250\n",
            "250\n",
            "Help on function get_sales_tax in module __main__:\n",
            "\n",
            "get_sales_tax(item_price, tax_rate)\n",
            "    # This function returns the tax for the purchase of an item\n",
            "    # item_price is the price of the item being purchased\n",
            "    # tax_rate should be a floating-point tax rate (e.g., .07)\n",
            "\n"
          ]
        }
      ]
    },
    {
      "cell_type": "code",
      "source": [
        "import numpy\n",
        "\"\"\"provides a wide range of data types and functions \n",
        "for programming data science applications in Python\"\"\"\n",
        "# Create a simple NumPy array\n",
        "my_array = numpy.array([0, 5, 10, 15, 20, 25])\n",
        "# Print the data type (ndarray)\n",
        "print(type(my_array))\n",
        "# Multiply the array by 5 and assign it to a new array\n",
        "my_squares_array = my_array * 5\n",
        "# Print the array values\n",
        "print(\"First array=\" + str(my_array))\n",
        "print(\"Second array=\" + str(my_squares_array))\n",
        "# Compute and print the sums\n",
        "print(\"First array sum=\" + str(my_array.sum()))\n",
        "print(\"Second array sum=\" + str(my_squares_array.sum()))\n",
        "# Compute and print the means\n",
        "print(\"First array mean=\" +  str(my_array.mean()))\n",
        "print(\"Second array mean=\" + str(my_squares_array.mean()))\n",
        "                             \n",
        "# Compute and print the standard deviations\n",
        "print(\"First array standard deviation=\" + str(my_array.std()))\n",
        "print(\"Second array standard deviation=\" + str(my_squares_array.std()))"
      ],
      "metadata": {
        "colab": {
          "base_uri": "https://localhost:8080/"
        },
        "id": "2Up4MSTSjGpQ",
        "outputId": "cde5598d-9b6f-4f95-f7e3-bd97fc77a97d"
      },
      "execution_count": null,
      "outputs": [
        {
          "output_type": "stream",
          "name": "stdout",
          "text": [
            "<class 'numpy.ndarray'>\n",
            "First array=[ 0  5 10 15 20 25]\n",
            "Second array=[  0  25  50  75 100 125]\n",
            "First array sum=75\n",
            "Second array sum=375\n",
            "First array mean=12.5\n",
            "Second array mean=62.5\n",
            "First array standard deviation=8.539125638299666\n",
            "Second array standard deviation=42.69562819149833\n"
          ]
        }
      ]
    },
    {
      "cell_type": "code",
      "source": [
        "#matplotlib simple plot \n",
        "\"\"\" it provides a wide range of graphing functions to visualize data\"\"\"\n",
        "import numpy\n",
        "import matplotlib.pyplot as plt\n",
        "my_array = numpy.array([1, 10, 5, 4, 19, 0, 2, 8])\n",
        "plt.plot(my_array)\n",
        "plt.show()"
      ],
      "metadata": {
        "colab": {
          "base_uri": "https://localhost:8080/",
          "height": 265
        },
        "id": "UTFQRKz5kMH1",
        "outputId": "b66a6b49-5742-4597-f587-846e4cc732fd"
      },
      "execution_count": null,
      "outputs": [
        {
          "output_type": "display_data",
          "data": {
            "image/png": "[encoded data removed]",
            "text/plain": [
              "<Figure size 432x288 with 1 Axes>"
            ]
          },
          "metadata": {
            "needs_background": "light"
          }
        }
      ]
    },
    {
      "cell_type": "code",
      "source": [
        "#matplotlib simple pie chart\n",
        "import matplotlib.pyplot as plt\n",
        "categories = 'Cars', 'Trucks', 'SUVS', 'Motorcycles', 'Minivans'\n",
        "quantities = [250, 150, 175, 70, 25]\n",
        "fig, axl = plt.subplots()\n",
        "axl.pie(quantities, labels=categories, autopct= '%1.1f%%',\n",
        "        shadow=False, startangle=90)\n",
        "axl.axis('equal')\n",
        "plt.show()"
      ],
      "metadata": {
        "colab": {
          "base_uri": "https://localhost:8080/",
          "height": 255
        },
        "id": "kI2y3p_Glwk0",
        "outputId": "4fee4536-5c5c-43f4-f5fd-77fabbde5823"
      },
      "execution_count": null,
      "outputs": [
        {
          "output_type": "display_data",
          "data": {
            "image/png": "[encoded data removed]",
            "text/plain": [
              "<Figure size 432x288 with 1 Axes>"
            ]
          },
          "metadata": {}
        }
      ]
    },
    {
      "cell_type": "code",
      "source": [
        "#sciPy interpolation  plot\n",
        "\"\"\" it provides scientific functions for linear algebraic functions,\n",
        " interpolation, signal processing, and more\"\"\"\n",
        "import numpy\n",
        "import matplotlib.pyplot as plt\n",
        "from scipy import interpolate\n",
        "\n",
        "x = numpy.arange(0, 10)\n",
        "y = x * x * x\n",
        "f = interpolate.interp1d(x, y)\n",
        "intx = numpy.arange(0, 9, 0.1)\n",
        "inty = f(intx)\n",
        "plt.plot(x, y, \"+\", intx, inty, \"-\")\n",
        "plt.show()\n",
        "     "
      ],
      "metadata": {
        "colab": {
          "base_uri": "https://localhost:8080/",
          "height": 265
        },
        "id": "vaAQLUK7mxFB",
        "outputId": "97e014d3-8abc-42aa-80ae-ef42d0468212"
      },
      "execution_count": null,
      "outputs": [
        {
          "output_type": "display_data",
          "data": {
            "image/png": "[encoded data removed]",
            "text/plain": [
              "<Figure size 432x288 with 1 Axes>"
            ]
          },
          "metadata": {
            "needs_background": "light"
          }
        }
      ]
    },
    {
      "cell_type": "code",
      "source": [
        "#SciPy normal distribution histogram\n",
        "import scipy.stats\n",
        "import numpy\n",
        "import matplotlib.pyplot as plt\n",
        "my_data = scipy.stats.norm.rvs(size=500)\n",
        "plt.hist(my_data, bins=50)\n",
        "plt.plot()"
      ],
      "metadata": {
        "colab": {
          "base_uri": "https://localhost:8080/",
          "height": 282
        },
        "id": "vUK9gpA_n7SC",
        "outputId": "bc7a2fc7-b949-41cb-8ef6-ec13343afadc"
      },
      "execution_count": null,
      "outputs": [
        {
          "output_type": "execute_result",
          "data": {
            "text/plain": [
              "[]"
            ]
          },
          "metadata": {},
          "execution_count": 50
        },
        {
          "output_type": "display_data",
          "data": {
            "image/png": "[encoded data removed]",
            "text/plain": [
              "<Figure size 432x288 with 1 Axes>"
            ]
          },
          "metadata": {
            "needs_background": "light"
          }
        }
      ]
    },
    {
      "cell_type": "code",
      "source": [
        "#pandas car data\n",
        "\"\"\"it provides the fast, efficient,\n",
        " and easy-to-use DataFrame data structure\"\"\"\n",
        "import pandas\n",
        "car_data = pandas.read_csv( 'mtcars.csv') \n",
        "car_data.head()\n",
        "           "
      ],
      "metadata": {
        "colab": {
          "base_uri": "https://localhost:8080/",
          "height": 467
        },
        "id": "IIQWkAMhpocq",
        "outputId": "927db293-9146-42f4-ab38-d4d4086b5991"
      },
      "execution_count": null,
      "outputs": [
        {
          "output_type": "error",
          "ename": "FileNotFoundError",
          "evalue": "ignored",
          "traceback": [
            "\u001b[0;31m---------------------------------------------------------------------------\u001b[0m",
            "\u001b[0;31mFileNotFoundError\u001b[0m                         Traceback (most recent call last)",
            "\u001b[0;32m<ipython-input-52-a09cf9bd7392>\u001b[0m in \u001b[0;36m<module>\u001b[0;34m()\u001b[0m\n\u001b[1;32m      1\u001b[0m \u001b[0;32mimport\u001b[0m \u001b[0mpandas\u001b[0m\u001b[0;34m\u001b[0m\u001b[0;34m\u001b[0m\u001b[0m\n\u001b[0;32m----> 2\u001b[0;31m \u001b[0mcar_data\u001b[0m \u001b[0;34m=\u001b[0m \u001b[0mpandas\u001b[0m\u001b[0;34m.\u001b[0m\u001b[0mread_csv\u001b[0m\u001b[0;34m(\u001b[0m \u001b[0;34m'mtcars.csv'\u001b[0m\u001b[0;34m)\u001b[0m\u001b[0;34m\u001b[0m\u001b[0;34m\u001b[0m\u001b[0m\n\u001b[0m\u001b[1;32m      3\u001b[0m \u001b[0mcar_data\u001b[0m\u001b[0;34m.\u001b[0m\u001b[0mhead\u001b[0m\u001b[0;34m(\u001b[0m\u001b[0;34m)\u001b[0m\u001b[0;34m\u001b[0m\u001b[0;34m\u001b[0m\u001b[0m\n\u001b[1;32m      4\u001b[0m \u001b[0;34m\u001b[0m\u001b[0m\n",
            "\u001b[0;32m/usr/local/lib/python3.7/dist-packages/pandas/io/parsers.py\u001b[0m in \u001b[0;36mread_csv\u001b[0;34m(filepath_or_buffer, sep, delimiter, header, names, index_col, usecols, squeeze, prefix, mangle_dupe_cols, dtype, engine, converters, true_values, false_values, skipinitialspace, skiprows, skipfooter, nrows, na_values, keep_default_na, na_filter, verbose, skip_blank_lines, parse_dates, infer_datetime_format, keep_date_col, date_parser, dayfirst, cache_dates, iterator, chunksize, compression, thousands, decimal, lineterminator, quotechar, quoting, doublequote, escapechar, comment, encoding, dialect, error_bad_lines, warn_bad_lines, delim_whitespace, low_memory, memory_map, float_precision)\u001b[0m\n\u001b[1;32m    686\u001b[0m     )\n\u001b[1;32m    687\u001b[0m \u001b[0;34m\u001b[0m\u001b[0m\n\u001b[0;32m--> 688\u001b[0;31m     \u001b[0;32mreturn\u001b[0m \u001b[0m_read\u001b[0m\u001b[0;34m(\u001b[0m\u001b[0mfilepath_or_buffer\u001b[0m\u001b[0;34m,\u001b[0m \u001b[0mkwds\u001b[0m\u001b[0;34m)\u001b[0m\u001b[0;34m\u001b[0m\u001b[0;34m\u001b[0m\u001b[0m\n\u001b[0m\u001b[1;32m    689\u001b[0m \u001b[0;34m\u001b[0m\u001b[0m\n\u001b[1;32m    690\u001b[0m \u001b[0;34m\u001b[0m\u001b[0m\n",
            "\u001b[0;32m/usr/local/lib/python3.7/dist-packages/pandas/io/parsers.py\u001b[0m in \u001b[0;36m_read\u001b[0;34m(filepath_or_buffer, kwds)\u001b[0m\n\u001b[1;32m    452\u001b[0m \u001b[0;34m\u001b[0m\u001b[0m\n\u001b[1;32m    453\u001b[0m     \u001b[0;31m# Create the parser.\u001b[0m\u001b[0;34m\u001b[0m\u001b[0;34m\u001b[0m\u001b[0;34m\u001b[0m\u001b[0m\n\u001b[0;32m--> 454\u001b[0;31m     \u001b[0mparser\u001b[0m \u001b[0;34m=\u001b[0m \u001b[0mTextFileReader\u001b[0m\u001b[0;34m(\u001b[0m\u001b[0mfp_or_buf\u001b[0m\u001b[0;34m,\u001b[0m \u001b[0;34m**\u001b[0m\u001b[0mkwds\u001b[0m\u001b[0;34m)\u001b[0m\u001b[0;34m\u001b[0m\u001b[0;34m\u001b[0m\u001b[0m\n\u001b[0m\u001b[1;32m    455\u001b[0m \u001b[0;34m\u001b[0m\u001b[0m\n\u001b[1;32m    456\u001b[0m     \u001b[0;32mif\u001b[0m \u001b[0mchunksize\u001b[0m \u001b[0;32mor\u001b[0m \u001b[0miterator\u001b[0m\u001b[0;34m:\u001b[0m\u001b[0;34m\u001b[0m\u001b[0;34m\u001b[0m\u001b[0m\n",
            "\u001b[0;32m/usr/local/lib/python3.7/dist-packages/pandas/io/parsers.py\u001b[0m in \u001b[0;36m__init__\u001b[0;34m(self, f, engine, **kwds)\u001b[0m\n\u001b[1;32m    946\u001b[0m             \u001b[0mself\u001b[0m\u001b[0;34m.\u001b[0m\u001b[0moptions\u001b[0m\u001b[0;34m[\u001b[0m\u001b[0;34m\"has_index_names\"\u001b[0m\u001b[0;34m]\u001b[0m \u001b[0;34m=\u001b[0m \u001b[0mkwds\u001b[0m\u001b[0;34m[\u001b[0m\u001b[0;34m\"has_index_names\"\u001b[0m\u001b[0;34m]\u001b[0m\u001b[0;34m\u001b[0m\u001b[0;34m\u001b[0m\u001b[0m\n\u001b[1;32m    947\u001b[0m \u001b[0;34m\u001b[0m\u001b[0m\n\u001b[0;32m--> 948\u001b[0;31m         \u001b[0mself\u001b[0m\u001b[0;34m.\u001b[0m\u001b[0m_make_engine\u001b[0m\u001b[0;34m(\u001b[0m\u001b[0mself\u001b[0m\u001b[0;34m.\u001b[0m\u001b[0mengine\u001b[0m\u001b[0;34m)\u001b[0m\u001b[0;34m\u001b[0m\u001b[0;34m\u001b[0m\u001b[0m\n\u001b[0m\u001b[1;32m    949\u001b[0m \u001b[0;34m\u001b[0m\u001b[0m\n\u001b[1;32m    950\u001b[0m     \u001b[0;32mdef\u001b[0m \u001b[0mclose\u001b[0m\u001b[0;34m(\u001b[0m\u001b[0mself\u001b[0m\u001b[0;34m)\u001b[0m\u001b[0;34m:\u001b[0m\u001b[0;34m\u001b[0m\u001b[0;34m\u001b[0m\u001b[0m\n",
            "\u001b[0;32m/usr/local/lib/python3.7/dist-packages/pandas/io/parsers.py\u001b[0m in \u001b[0;36m_make_engine\u001b[0;34m(self, engine)\u001b[0m\n\u001b[1;32m   1178\u001b[0m     \u001b[0;32mdef\u001b[0m \u001b[0m_make_engine\u001b[0m\u001b[0;34m(\u001b[0m\u001b[0mself\u001b[0m\u001b[0;34m,\u001b[0m \u001b[0mengine\u001b[0m\u001b[0;34m=\u001b[0m\u001b[0;34m\"c\"\u001b[0m\u001b[0;34m)\u001b[0m\u001b[0;34m:\u001b[0m\u001b[0;34m\u001b[0m\u001b[0;34m\u001b[0m\u001b[0m\n\u001b[1;32m   1179\u001b[0m         \u001b[0;32mif\u001b[0m \u001b[0mengine\u001b[0m \u001b[0;34m==\u001b[0m \u001b[0;34m\"c\"\u001b[0m\u001b[0;34m:\u001b[0m\u001b[0;34m\u001b[0m\u001b[0;34m\u001b[0m\u001b[0m\n\u001b[0;32m-> 1180\u001b[0;31m             \u001b[0mself\u001b[0m\u001b[0;34m.\u001b[0m\u001b[0m_engine\u001b[0m \u001b[0;34m=\u001b[0m \u001b[0mCParserWrapper\u001b[0m\u001b[0;34m(\u001b[0m\u001b[0mself\u001b[0m\u001b[0;34m.\u001b[0m\u001b[0mf\u001b[0m\u001b[0;34m,\u001b[0m \u001b[0;34m**\u001b[0m\u001b[0mself\u001b[0m\u001b[0;34m.\u001b[0m\u001b[0moptions\u001b[0m\u001b[0;34m)\u001b[0m\u001b[0;34m\u001b[0m\u001b[0;34m\u001b[0m\u001b[0m\n\u001b[0m\u001b[1;32m   1181\u001b[0m         \u001b[0;32melse\u001b[0m\u001b[0;34m:\u001b[0m\u001b[0;34m\u001b[0m\u001b[0;34m\u001b[0m\u001b[0m\n\u001b[1;32m   1182\u001b[0m             \u001b[0;32mif\u001b[0m \u001b[0mengine\u001b[0m \u001b[0;34m==\u001b[0m \u001b[0;34m\"python\"\u001b[0m\u001b[0;34m:\u001b[0m\u001b[0;34m\u001b[0m\u001b[0;34m\u001b[0m\u001b[0m\n",
            "\u001b[0;32m/usr/local/lib/python3.7/dist-packages/pandas/io/parsers.py\u001b[0m in \u001b[0;36m__init__\u001b[0;34m(self, src, **kwds)\u001b[0m\n\u001b[1;32m   2008\u001b[0m         \u001b[0mkwds\u001b[0m\u001b[0;34m[\u001b[0m\u001b[0;34m\"usecols\"\u001b[0m\u001b[0;34m]\u001b[0m \u001b[0;34m=\u001b[0m \u001b[0mself\u001b[0m\u001b[0;34m.\u001b[0m\u001b[0musecols\u001b[0m\u001b[0;34m\u001b[0m\u001b[0;34m\u001b[0m\u001b[0m\n\u001b[1;32m   2009\u001b[0m \u001b[0;34m\u001b[0m\u001b[0m\n\u001b[0;32m-> 2010\u001b[0;31m         \u001b[0mself\u001b[0m\u001b[0;34m.\u001b[0m\u001b[0m_reader\u001b[0m \u001b[0;34m=\u001b[0m \u001b[0mparsers\u001b[0m\u001b[0;34m.\u001b[0m\u001b[0mTextReader\u001b[0m\u001b[0;34m(\u001b[0m\u001b[0msrc\u001b[0m\u001b[0;34m,\u001b[0m \u001b[0;34m**\u001b[0m\u001b[0mkwds\u001b[0m\u001b[0;34m)\u001b[0m\u001b[0;34m\u001b[0m\u001b[0;34m\u001b[0m\u001b[0m\n\u001b[0m\u001b[1;32m   2011\u001b[0m         \u001b[0mself\u001b[0m\u001b[0;34m.\u001b[0m\u001b[0munnamed_cols\u001b[0m \u001b[0;34m=\u001b[0m \u001b[0mself\u001b[0m\u001b[0;34m.\u001b[0m\u001b[0m_reader\u001b[0m\u001b[0;34m.\u001b[0m\u001b[0munnamed_cols\u001b[0m\u001b[0;34m\u001b[0m\u001b[0;34m\u001b[0m\u001b[0m\n\u001b[1;32m   2012\u001b[0m \u001b[0;34m\u001b[0m\u001b[0m\n",
            "\u001b[0;32mpandas/_libs/parsers.pyx\u001b[0m in \u001b[0;36mpandas._libs.parsers.TextReader.__cinit__\u001b[0;34m()\u001b[0m\n",
            "\u001b[0;32mpandas/_libs/parsers.pyx\u001b[0m in \u001b[0;36mpandas._libs.parsers.TextReader._setup_parser_source\u001b[0;34m()\u001b[0m\n",
            "\u001b[0;31mFileNotFoundError\u001b[0m: [Errno 2] No such file or directory: 'mtcars.csv'"
          ]
        }
      ]
    },
    {
      "cell_type": "code",
      "source": [
        "import pandas\n",
        "car_data = panda.read_csv('mtcars.csv')\n",
        "efficient_cars = car_data[\"mpg\"] > 25\n",
        "print(car_data[efficient_cars])"
      ],
      "metadata": {
        "colab": {
          "base_uri": "https://localhost:8080/",
          "height": 217
        },
        "id": "XsuHyzSArjxb",
        "outputId": "76861dc5-e0ae-488c-c897-4837b3b3d835"
      },
      "execution_count": null,
      "outputs": [
        {
          "output_type": "error",
          "ename": "NameError",
          "evalue": "ignored",
          "traceback": [
            "\u001b[0;31m---------------------------------------------------------------------------\u001b[0m",
            "\u001b[0;31mNameError\u001b[0m                                 Traceback (most recent call last)",
            "\u001b[0;32m<ipython-input-54-7dbc22274116>\u001b[0m in \u001b[0;36m<module>\u001b[0;34m()\u001b[0m\n\u001b[1;32m      1\u001b[0m \u001b[0;32mimport\u001b[0m \u001b[0mpandas\u001b[0m\u001b[0;34m\u001b[0m\u001b[0;34m\u001b[0m\u001b[0m\n\u001b[0;32m----> 2\u001b[0;31m \u001b[0mcar_data\u001b[0m \u001b[0;34m=\u001b[0m \u001b[0mpanda\u001b[0m\u001b[0;34m.\u001b[0m\u001b[0mread_csv\u001b[0m\u001b[0;34m(\u001b[0m\u001b[0;34m'mtcars.csv'\u001b[0m\u001b[0;34m)\u001b[0m\u001b[0;34m\u001b[0m\u001b[0;34m\u001b[0m\u001b[0m\n\u001b[0m\u001b[1;32m      3\u001b[0m \u001b[0mefficient_cars\u001b[0m \u001b[0;34m=\u001b[0m \u001b[0mcar_data\u001b[0m\u001b[0;34m[\u001b[0m\u001b[0;34m\"mpg\"\u001b[0m\u001b[0;34m]\u001b[0m \u001b[0;34m>\u001b[0m \u001b[0;36m25\u001b[0m\u001b[0;34m\u001b[0m\u001b[0;34m\u001b[0m\u001b[0m\n\u001b[1;32m      4\u001b[0m \u001b[0mprint\u001b[0m\u001b[0;34m(\u001b[0m\u001b[0mcar_data\u001b[0m\u001b[0;34m[\u001b[0m\u001b[0mefficient_cars\u001b[0m\u001b[0;34m]\u001b[0m\u001b[0;34m)\u001b[0m\u001b[0;34m\u001b[0m\u001b[0;34m\u001b[0m\u001b[0m\n",
            "\u001b[0;31mNameError\u001b[0m: name 'panda' is not defined"
          ]
        }
      ]
    },
    {
      "cell_type": "markdown",
      "source": [
        "scikit-learn library provides machine-learning algorithms for Python programmers"
      ],
      "metadata": {
        "id": "OC62oj2utBRo"
      }
    },
    {
      "cell_type": "code",
      "source": [
        "my_string = \"   this has \\\"quotes\\\".  \"\n",
        "print(my_string)\n",
        "my_var = 2\n",
        "if my_nm < 0:\n",
        "  print('iwa')"
      ],
      "metadata": {
        "colab": {
          "base_uri": "https://localhost:8080/",
          "height": 235
        },
        "id": "CzKR36XFqmWk",
        "outputId": "3d866093-0fc9-4d5b-cbf1-c1350b62c7ef"
      },
      "execution_count": null,
      "outputs": [
        {
          "output_type": "stream",
          "name": "stdout",
          "text": [
            "   this has \"quotes\".  \n"
          ]
        },
        {
          "output_type": "error",
          "ename": "NameError",
          "evalue": "ignored",
          "traceback": [
            "\u001b[0;31m---------------------------------------------------------------------------\u001b[0m",
            "\u001b[0;31mNameError\u001b[0m                                 Traceback (most recent call last)",
            "\u001b[0;32m<ipython-input-8-873c32d496c6>\u001b[0m in \u001b[0;36m<module>\u001b[0;34m()\u001b[0m\n\u001b[1;32m      2\u001b[0m \u001b[0mprint\u001b[0m\u001b[0;34m(\u001b[0m\u001b[0mmy_string\u001b[0m\u001b[0;34m)\u001b[0m\u001b[0;34m\u001b[0m\u001b[0;34m\u001b[0m\u001b[0m\n\u001b[1;32m      3\u001b[0m \u001b[0mmy_var\u001b[0m \u001b[0;34m=\u001b[0m \u001b[0;36m2\u001b[0m\u001b[0;34m\u001b[0m\u001b[0;34m\u001b[0m\u001b[0m\n\u001b[0;32m----> 4\u001b[0;31m \u001b[0;32mif\u001b[0m \u001b[0mmy_nm\u001b[0m \u001b[0;34m<\u001b[0m \u001b[0;36m0\u001b[0m\u001b[0;34m:\u001b[0m\u001b[0;34m\u001b[0m\u001b[0;34m\u001b[0m\u001b[0m\n\u001b[0m\u001b[1;32m      5\u001b[0m   \u001b[0mprint\u001b[0m\u001b[0;34m(\u001b[0m\u001b[0;34m'iwa'\u001b[0m\u001b[0;34m)\u001b[0m\u001b[0;34m\u001b[0m\u001b[0;34m\u001b[0m\u001b[0m\n",
            "\u001b[0;31mNameError\u001b[0m: name 'my_nm' is not defined"
          ]
        }
      ]
    },
    {
      "cell_type": "code",
      "source": [
        "a = input()\n",
        "type(a)"
      ],
      "metadata": {
        "colab": {
          "base_uri": "https://localhost:8080/"
        },
        "id": "vGi1nTdYyPRC",
        "outputId": "032cd5f0-e4ed-43f6-f05e-a6a640ed6f2e"
      },
      "execution_count": null,
      "outputs": [
        {
          "name": "stdout",
          "output_type": "stream",
          "text": [
            "15\n"
          ]
        },
        {
          "output_type": "execute_result",
          "data": {
            "text/plain": [
              "str"
            ]
          },
          "metadata": {},
          "execution_count": 10
        }
      ]
    }
  ]
}